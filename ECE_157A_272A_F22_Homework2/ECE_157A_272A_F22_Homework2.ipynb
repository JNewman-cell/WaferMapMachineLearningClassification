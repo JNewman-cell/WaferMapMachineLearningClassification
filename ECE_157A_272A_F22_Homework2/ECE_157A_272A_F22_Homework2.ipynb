{
 "cells": [
  {
   "cell_type": "markdown",
   "metadata": {},
   "source": [
    "# ECE 157A/272A Fall 2022 Homework 2"
   ]
  },
  {
   "cell_type": "markdown",
   "metadata": {},
   "source": [
    "Name: Jackson Newman"
   ]
  },
  {
   "cell_type": "code",
   "execution_count": 62,
   "metadata": {},
   "outputs": [],
   "source": [
    "import os\n",
    "import typing\n",
    "from typing import Tuple\n",
    "\n",
    "import numpy as np\n",
    "import pandas as pd\n",
    "\n",
    "# OpenCV and Scikit-Image for image manipulation \n",
    "import cv2\n",
    "from skimage.transform import resize\n",
    "from skimage.measure import label, regionprops, perimeter\n",
    "from skimage.morphology import erosion\n",
    "import math\n",
    "\n",
    "# Seaborn and Matplotlib for plotting\n",
    "import seaborn as sns\n",
    "import matplotlib.pyplot as plt\n",
    "%matplotlib inline\n",
    "\n",
    "# Scikit-Learn Descision Tree and helper functions\n",
    "from sklearn import tree\n",
    "from sklearn.model_selection import train_test_split\n",
    "from sklearn.metrics import confusion_matrix, homogeneity_score, completeness_score\n",
    "\n",
    "FAIL = 2 # failing die\n",
    "PASS = 1 # passing die\n",
    "NO_DIE = 0 # no die\n",
    "RANDOM_SEED = 10"
   ]
  },
  {
   "cell_type": "markdown",
   "metadata": {},
   "source": [
    "### Helper Functions"
   ]
  },
  {
   "cell_type": "code",
   "execution_count": 2,
   "metadata": {},
   "outputs": [],
   "source": [
    "# TODO: Implement a function that takes a wafer map and outputs it to a directory with the given name\n",
    "def output_image(wafer_map: np.ndarray, name: str, dir: str, vmin: int=0, vmax: int=2) -> None:\n",
    "    # use os library to check whether directory exists\n",
    "    # if not, make the directory\n",
    "    # CODE HERE\n",
    "    if not os.path.isdir(dir):\n",
    "        os.mkdir(dir)\n",
    "    # use plt.imsave to save wafer_map under the given directory with the given name\n",
    "    # note: set the min value (vmin) and max vlaue (vmax) for plt.imsave based on wafer map value range\n",
    "    # CODE HERE\n",
    "    os.chdir(dir)\n",
    "    plt.imsave(name, wafer_map, format='png', vmin=0, vmax=2)\n",
    "    os.chdir('..')\n",
    "    \n",
    "    return\n",
    "\n",
    "# TODO: Implement a function that outputs all wafer maps to corresponding failure type directories\n",
    "def output_all_wafer_maps(df: pd.DataFrame) -> None:\n",
    "    # iterate through all rows in the dataframe with df.iterrows()\n",
    "    # From the row, get wafer map, failure type, lot name and wafer index\n",
    "    # output wafer map as \"<failure type dir>/<lot name>-<wafer index>.png\"\n",
    "    # CODE HERE\n",
    "    for index, row in df.iterrows():\n",
    "        waferMap = row[\"waferMap\"]\n",
    "        failureType = row[\"failureType\"]\n",
    "        name = row[\"lotName\"]\n",
    "        waferIndex = row[\"waferIndex\"]\n",
    "        output_image(waferMap, name+'-'+str(waferIndex), failureType)\n",
    "\n",
    "    return\n"
   ]
  },
  {
   "cell_type": "code",
   "execution_count": 3,
   "metadata": {},
   "outputs": [],
   "source": [
    "# TODO: Implement a function that generate a single plot showing one wafer map example from each failure type\n",
    "def visualize_failure_types(df: pd.DataFrame, figsize=(16,9)) -> None:\n",
    "    # Find unique failure types within the \"failureType\" column of the df\n",
    "    # CODE HERE\n",
    "    failTypes = []\n",
    "    for index, row in df.iterrows():\n",
    "        if failTypes.count(row[\"failureType\"]) == 0:\n",
    "            failTypes.append(row[\"failureType\"])\n",
    "    # Create plt canvas with 6 subplots (2 rows and 3 columns) with plt.subplots\n",
    "    # CODE HERE\n",
    "    plt.figure(figsize=(16, 9))\n",
    "    # iterate through all the classes and show one wafer map per class\n",
    "    # CODE HERE\n",
    "    for i in range(1,6):\n",
    "        for index, row in df.iterrows():\n",
    "        # Pick the first image from each category\n",
    "        # hint: search for select pandas row based on conditions\n",
    "        # and dataframe indexing\n",
    "        # CODE HERE\n",
    "            failureType = row[\"failureType\"]\n",
    "            name = row[\"lotName\"]\n",
    "            waferIndex = row[\"waferIndex\"]\n",
    "            plt.subplot(2,3,i)\n",
    "            # Plt image on the axes\n",
    "            # CODE HERE\n",
    "            if failureType == failTypes[i-1]:\n",
    "                plt.imshow(row[\"waferMap\"])\n",
    "                break;\n",
    "    \n",
    "    # show your plot\n",
    "    plt.show()\n"
   ]
  },
  {
   "cell_type": "markdown",
   "metadata": {},
   "source": [
    "### Load Dataset"
   ]
  },
  {
   "cell_type": "code",
   "execution_count": 4,
   "metadata": {},
   "outputs": [],
   "source": [
    "# load training dataset as pandas dataframe\n",
    "np_train = np.load('wafermap_train.npy', allow_pickle=True)\n",
    "df_train = pd.DataFrame.from_records(np_train)\n"
   ]
  },
  {
   "cell_type": "code",
   "execution_count": 21,
   "metadata": {},
   "outputs": [
    {
     "data": {
      "text/plain": [
       "<matplotlib.image.AxesImage at 0x1ccbef19250>"
      ]
     },
     "execution_count": 21,
     "metadata": {},
     "output_type": "execute_result"
    },
    {
     "data": {
      "image/png": "[encoded data removed]",
      "text/plain": [
       "<Figure size 640x480 with 1 Axes>"
      ]
     },
     "metadata": {},
     "output_type": "display_data"
    }
   ],
   "source": [
    "\n"
   ]
  },
  {
   "cell_type": "markdown",
   "metadata": {},
   "source": [
    "### Dataset Inspection"
   ]
  },
  {
   "cell_type": "code",
   "execution_count": 6,
   "metadata": {},
   "outputs": [
    {
     "name": "stdout",
     "output_type": "stream",
     "text": [
      "<class 'pandas.core.frame.DataFrame'>\n",
      "RangeIndex: 1693 entries, 0 to 1692\n",
      "Data columns (total 7 columns):\n",
      " #   Column          Non-Null Count  Dtype  \n",
      "---  ------          --------------  -----  \n",
      " 0   index           1693 non-null   int64  \n",
      " 1   dieSize         1693 non-null   float64\n",
      " 2   failureType     1693 non-null   object \n",
      " 3   lotName         1693 non-null   object \n",
      " 4   trainTestLabel  1693 non-null   object \n",
      " 5   waferIndex      1693 non-null   float64\n",
      " 6   waferMap        1693 non-null   object \n",
      "dtypes: float64(2), int64(1), object(4)\n",
      "memory usage: 92.7+ KB\n"
     ]
    }
   ],
   "source": [
    "# use pandas to inspect the dataset information\n",
    "df_train.info()"
   ]
  },
  {
   "cell_type": "code",
   "execution_count": 7,
   "metadata": {},
   "outputs": [
    {
     "data": {
      "text/plain": [
       "1334.0    297\n",
       "1226.0    145\n",
       "2393.0     99\n",
       "1080.0     77\n",
       "1389.0     68\n",
       "         ... \n",
       "2071.0      1\n",
       "7870.0      1\n",
       "4014.0      1\n",
       "2268.0      1\n",
       "1791.0      1\n",
       "Name: dieSize, Length: 205, dtype: int64"
      ]
     },
     "execution_count": 7,
     "metadata": {},
     "output_type": "execute_result"
    }
   ],
   "source": [
    "# inspect the dieSize\n",
    "# notice that the die size varies? \n",
    "# We will need to preprocess them to make it uniform \n",
    "df_train['dieSize'].value_counts()"
   ]
  },
  {
   "cell_type": "code",
   "execution_count": 8,
   "metadata": {},
   "outputs": [
    {
     "data": {
      "text/plain": [
       "<AxesSubplot: >"
      ]
     },
     "execution_count": 8,
     "metadata": {},
     "output_type": "execute_result"
    },
    {
     "data": {
      "image/png": "[encoded data removed]",
      "text/plain": [
       "<Figure size 640x480 with 1 Axes>"
      ]
     },
     "metadata": {},
     "output_type": "display_data"
    }
   ],
   "source": [
    "# inspect the failure types and the distributions\n",
    "df_train['failureType'].hist()"
   ]
  },
  {
   "cell_type": "code",
   "execution_count": 46,
   "metadata": {},
   "outputs": [
    {
     "data": {
      "image/png": "[encoded data removed]",
      "text/plain": [
       "<Figure size 1600x900 with 5 Axes>"
      ]
     },
     "metadata": {},
     "output_type": "display_data"
    }
   ],
   "source": [
    "# show a wafermap in each class\n",
    "visualize_failure_types(df_train)"
   ]
  },
  {
   "cell_type": "code",
   "execution_count": 10,
   "metadata": {},
   "outputs": [],
   "source": [
    "# output all images to failure type directory\n",
    "root_dir = 'defect_types'\n",
    "output_all_wafer_maps(df_train)"
   ]
  },
  {
   "cell_type": "markdown",
   "metadata": {},
   "source": [
    "### Data Preparation (Part 1)"
   ]
  },
  {
   "cell_type": "markdown",
   "metadata": {},
   "source": [
    "For data preparation, we need to perform the following operations:\n",
    "1) Resize the wafer maps as a numpy array of shape [x, 64, 64]\n",
    "2) Convert the labels into numeric values"
   ]
  },
  {
   "cell_type": "code",
   "execution_count": 14,
   "metadata": {},
   "outputs": [],
   "source": [
    "# TODO: The function takes the failure type string \n",
    "# and returns the numeric value of failureType\n",
    "def convert_failure_type(failure_type: str) -> int:\n",
    "    # Create dictionary for converting string to numeric number\n",
    "    string2int = {# CODE HERE\n",
    "        \"Center\" : 1,\n",
    "        \"Edge-Loc\" : 2,\n",
    "        \"Scratch\" : 3,\n",
    "        \"Donut\" : 4,\n",
    "        \"Near-full\" : 5\n",
    "    }\n",
    "\n",
    "    return string2int[failure_type]\n",
    "\n",
    "# TODO: The function resizes a wafer to specified output shape using opencv's resize function\n",
    "def resize_wafer_map(wafer_map: np.ndarray, output_shape: tuple=(64, 64)) -> np.ndarray:\n",
    "    # CODE HERE\n",
    "    resized_wafer_map = cv2.resize(wafer_map,output_shape)\n",
    "    \n",
    "    return resized_wafer_map\n",
    "\n",
    "# create dataframe columns to store the return values of the two tasks below:\n",
    "#       (1) reshapes the wafer maps as a numpy array of shape (64, 64), \n",
    "#       (2) and converts the failureType into numeric values \n",
    "def prepare_data(df: pd.DataFrame, has_labels: bool=True) -> Tuple[np.ndarray, list]:\n",
    "    # Resize_wafer_map function to resize the wafer map to a larger size\n",
    "    # note: here we decided to overwrite the waferMap column, but for best\n",
    "    # practice, it's best to create a new column unless you don't need the original\n",
    "    # wafer map data anymore\n",
    "    df['waferMap'] = df['waferMap'].apply(resize_wafer_map) \n",
    "    if(has_labels):\n",
    "        df['failureTypeInt'] = df['failureType'].apply(convert_failure_type)\n",
    "\n",
    "    return df"
   ]
  },
  {
   "cell_type": "markdown",
   "metadata": {},
   "source": [
    "Prepare the data with the above function"
   ]
  },
  {
   "cell_type": "code",
   "execution_count": 15,
   "metadata": {},
   "outputs": [],
   "source": [
    "# actually resizing the wafer map and converting failure types\n",
    "# in the training dataframe\n",
    "df_train = prepare_data(df_train)"
   ]
  },
  {
   "cell_type": "markdown",
   "metadata": {},
   "source": [
    "### Feature Engineering\n",
    "Extract features from the wafer maps"
   ]
  },
  {
   "cell_type": "code",
   "execution_count": 98,
   "metadata": {},
   "outputs": [],
   "source": [
    "# The function that detects connect components using skimage\n",
    "# and selects one with the largest area which we call salient region\n",
    "# TODO: skip to the create_feature_columns code block and generate salient region\n",
    "# before proceeding to other feature extractor functions\n",
    "# https://scikit-image.org/docs/stable/auto_examples/segmentation/plot_regionprops.html\n",
    "# https://scikit-image.org/docs/stable/api/skimage.measure.html#skimage.measure.regionprops\n",
    "def get_salient_region(row: pd.Series) -> np.ndarray:\n",
    "    # get wafer map from dataframe row\n",
    "    wafer_map = row['waferMap']\n",
    "\n",
    "    # create a wafer map with NO_DIE as background and FAIL as defect\n",
    "    failure_only = np.zeros_like(wafer_map)\n",
    "    failure_only[wafer_map==FAIL] = FAIL\n",
    "\n",
    "    # label the connected components and get their regions properties\n",
    "    # note: you might want to plot the labeled_image to take a look at the \n",
    "    # return of the label function\n",
    "    labeled_image = label(failure_only, background=NO_DIE, connectivity=2)\n",
    "    region_props = regionprops(labeled_image)\n",
    "\n",
    "    # returns the largest connected component as salient region\n",
    "    # note: label image starts connected component label at value 1 with background being 0\n",
    "    # thus, we need to add 1 after argmax\n",
    "    largest_region_label = np.argmax([prop.area for prop in region_props]) + 1\n",
    "    salient_region = np.zeros_like(labeled_image)\n",
    "    salient_region[labeled_image == largest_region_label] = FAIL\n",
    "\n",
    "    # # uncomment to verify the salient region\n",
    "    #fig, ax = plt.subplots(nrows=1, ncols=2)\n",
    "    #ax[0].imshow(wafer_map)\n",
    "    #ax[1].imshow(salient_region)\n",
    "    #plt.show()\n",
    "\n",
    "    return salient_region\n",
    "\n",
    "# TODO: The function returns the ratio of the area of the salient region to the area of the wafer map\n",
    "def get_area_ratio(row: pd.Series) -> float:\n",
    "    # retrieve wafer map and salient region from dataframe row\n",
    "    # CODE HERE\n",
    "    wafer_map = row[\"waferMap\"]\n",
    "    salient_region = get_salient_region(row)\n",
    "    # count the number of fail dice on salient region\n",
    "    # count the total number of dice on wafer map\n",
    "    # divide them to get area_ratio\n",
    "    # CODE HERE\n",
    "    labelWafer = label(wafer_map)\n",
    "    waferRegions = regionprops(labelWafer)\n",
    "    waferArea = waferRegions[0].area\n",
    "    labelSalient = label(salient_region)\n",
    "    salientRegions = regionprops(labelSalient)\n",
    "    salientArea = salientRegions[0].area\n",
    "    area_ratio = salientArea/waferArea\n",
    "    return area_ratio\n",
    "\n",
    "# TODO: The function returns the ratio of the perimeter of the salient region to the radius of the wafer map\n",
    "def get_perimeter_ratio(row: pd.Series) -> float:\n",
    "    # retrieve wafer map and salient region from dataframe row\n",
    "    # CODE HERE\n",
    "    wafer_map = row[\"waferMap\"]\n",
    "    salient_region = get_salient_region(row)\n",
    "    # label the salient region connected components and get their regions properties\n",
    "    # CODE HERE\n",
    "    labelSalient = label(salient_region)\n",
    "    salientRegions = regionprops(labelSalient)\n",
    "    # find perimeter and wafer map radius\n",
    "    # CODE HERE\n",
    "    perimeter = salientRegions[0].perimeter\n",
    "    waferMapRadius = 32\n",
    "    # divide them to get ratio\n",
    "    # CODE HERE\n",
    "    perimeter_ratio = perimeter/waferMapRadius\n",
    "    return perimeter_ratio\n",
    "\n",
    "# TODO: The function returns the maximal distance between the salient region and \n",
    "# the center of the wafer map\n",
    "def get_max_dist_from_center(row: pd.Series) -> float:\n",
    "    # retrieve wafer map and salient region from dataframe row\n",
    "    # CODE HERE\n",
    "    wafer_map = row[\"waferMap\"]\n",
    "    salient_region = get_salient_region(row)\n",
    "    # find center of the wafer map\n",
    "    # CODE HERE\n",
    "    labelWafer = label(wafer_map)\n",
    "    waferRegions = regionprops(labelWafer)\n",
    "    labelSalient = label(salient_region)\n",
    "    salientRegions = regionprops(labelSalient)\n",
    "   \n",
    "    waferCenter = waferRegions[0].centroid\n",
    "    salientCoordinates = salientRegions[0].coords\n",
    "    # get all coordinates of the salient region and compute the max distance\n",
    "    # from center\n",
    "    # CODE HERE\n",
    "    max_distance = 0\n",
    "    for coordinates in salientCoordinates:\n",
    "        distance = math.sqrt((waferCenter[0] - coordinates[0])**2 + (waferCenter[1] - coordinates[1])**2)\n",
    "        if distance > max_distance:\n",
    "            max_distance = distance\n",
    "\n",
    "    return max_distance\n",
    "\n",
    "# TODO: The function returns the minimal distance between the salient region and \n",
    "# the center of the wafer map\n",
    "def get_min_dist_from_center(row: pd.Series) -> float:\n",
    "    # retrieve wafer map and salient region from dataframe row\n",
    "    # CODE HERE\n",
    "    wafer_map = row[\"waferMap\"]\n",
    "    salient_region = get_salient_region(row)\n",
    "    # find center of the wafer map\n",
    "    # CODE HERE\n",
    "    wafer_map = row[\"waferMap\"]\n",
    "    salient_region = get_salient_region(row)\n",
    "    # find center of the wafer map\n",
    "    # CODE HERE\n",
    "    labelWafer = label(wafer_map)\n",
    "    waferRegions = regionprops(labelWafer)\n",
    "    labelSalient = label(salient_region)\n",
    "    salientRegions = regionprops(labelSalient)\n",
    "\n",
    "    waferCenter = waferRegions[0].centroid\n",
    "    salientCoordinates = salientRegions[0].coords\n",
    "\n",
    "    # get all coordinates of the salient region and compute the min distance\n",
    "    # from center\n",
    "    # CODE HERE\n",
    "    min_distance = 64\n",
    "    for coordinates in salientCoordinates:\n",
    "        distance = math.sqrt(\n",
    "            (waferCenter[0] - coordinates[0])**2 + (waferCenter[1] - coordinates[1])**2)\n",
    "        if distance < min_distance:\n",
    "            min_distance = distance\n",
    "\n",
    "    return min_distance\n",
    "\n",
    "# TODO: The function returns the ratio of the length of the major axis of the estimated \n",
    "# ellipse surrounding the salient region to the radius of the wafer map\n",
    "def get_major_axis_ratio(row: pd.Series) -> float:\n",
    "    # retrieve wafer map and salient region from dataframe row\n",
    "    # CODE HERE\n",
    "    wafer_map = row[\"waferMap\"]\n",
    "    salient_region = get_salient_region(row)\n",
    "    # label the salient region connected components and get their regions properties\n",
    "    # CODE HERE\n",
    "    labelWafer = label(wafer_map)\n",
    "    waferRegions = regionprops(labelWafer)\n",
    "    labelSalient = label(salient_region)\n",
    "    salientRegions = regionprops(labelSalient)\n",
    "    \n",
    "    waferRadius = 32\n",
    "    salientMajorAxis = salientRegions[0].major_axis_length\n",
    "\n",
    "    # find major axis and wafer map radius\n",
    "    # CODE HERE\n",
    "    major_axis_ratio = salientMajorAxis/waferRadius\n",
    "    \n",
    "    return major_axis_ratio\n",
    "\n",
    "# TODO: The function returns the ratio of the length of the minor axis of the estimated \n",
    "# ellipse surrounding the salient region to the radius of the wafer map\n",
    "def get_minor_axis_ratio(row: pd.Series) -> float:\n",
    "    # retrieve wafer map and salient region from dataframe row\n",
    "    # CODE HERE\n",
    "    wafer_map = row[\"waferMap\"]\n",
    "    salient_region = get_salient_region(row)\n",
    "    # label the salient region connected components and get their regions properties\n",
    "    # CODE HERE\n",
    "    labelWafer = label(wafer_map)\n",
    "    waferRegions = regionprops(labelWafer)\n",
    "    labelSalient = label(salient_region)\n",
    "    salientRegions = regionprops(labelSalient)\n",
    "\n",
    "    waferRadius = 32\n",
    "    salientMinorAxis = salientRegions[0].minor_axis_length\n",
    "\n",
    "    # find minor axis and wafer map radius\n",
    "    # CODE HERE\n",
    "    minor_axis_ratio = salientMinorAxis/waferRadius\n",
    "\n",
    "    return minor_axis_ratio\n",
    "\n",
    "#TODO: The function returns the solidity, indicating the proportion of defective dice\n",
    "# in the estimated convex hull of the salient region\n",
    "def get_solidity(row: pd.Series) -> float:\n",
    "    # retrieve wafer map and salient region from dataframe row\n",
    "    # CODE HERE\n",
    "    wafer_map = row[\"waferMap\"]\n",
    "    salient_region = get_salient_region(row)\n",
    "    # label the salient region connected components and get their regions properties\n",
    "    # CODE HERE\n",
    "    labelSalient = label(salient_region)\n",
    "    salientRegions = regionprops(labelSalient)\n",
    "    # get solidity of salient region\n",
    "    # CODE HERE\n",
    "    solidity = salientRegions[0].solidity\n",
    "\n",
    "    return solidity\n",
    "\n",
    "# TODO: The function returns the eccentricity of the salient region\n",
    "def get_eccentricity(row: pd.Series) -> float:\n",
    "    # retrieve wafer map and salient region from dataframe row\n",
    "    # CODE HERE\n",
    "    wafer_map = row[\"waferMap\"]\n",
    "    salient_region = get_salient_region(row)\n",
    "    # label the salient region connected components and get their regions properties\n",
    "    # CODE HERE\n",
    "    labelSalient = label(salient_region)\n",
    "    salientRegions = regionprops(labelSalient)\n",
    "    # get eccentricity of salient region\n",
    "    # CODE HERE\n",
    "    eccentricity = salientRegions[0].eccentricity\n",
    "    \n",
    "    return eccentricity\n",
    "\n",
    "# TODO: The function returns the ratio of the failed dice on the wafer map to the total\n",
    "# number of dice on the wafer map\n",
    "def get_yield_loss(row: pd.Series) -> float:\n",
    "    # retrieve wafer map\n",
    "    # CODE HERE\n",
    "    wafer_map = row[\"waferMap\"]\n",
    "    # count FAIL dice and total number of dice\n",
    "    # CODE HERE\n",
    "    fails = np.sum(wafer_map == 2)\n",
    "    labelWafer = label(wafer_map)\n",
    "    waferRegions = regionprops(labelWafer)\n",
    "    waferArea = waferRegions[0].area\n",
    "\n",
    "    # compute yield loss\n",
    "    # CODE HERE\n",
    "    yield_loss = fails/waferArea\n",
    "\n",
    "    return yield_loss\n",
    "\n",
    "# TODO: The function returns the ratio of the failed dice on the outermost two rings of the\n",
    "# wafer map to the total number of dice on the outermost two rings of the wafer map\n",
    "def get_edge_yield_loss(row: pd.Series) -> float:\n",
    "    # retrieve wafer map\n",
    "    # CODE HERE\n",
    "    wafer_map = row[\"waferMap\"]\n",
    "    # find ring label that highlights the outermost two rings of the wafer\n",
    "    # CODE HERE\n",
    "    outermostTwoRings = ring_label_from_outside(wafer_map)\n",
    "    plt.imshow(outermostTwoRings)\n",
    "    plt.imshow(wafer_map)\n",
    "    # get edge FAIL dice and total number of edge dice\n",
    "    # CODE HERE\n",
    "    fails = np.sum(outermostTwoRings == 2)\n",
    "    total = np.sum(outermostTwoRings >= 1)\n",
    "    edge_yield_loss = fails/total\n",
    "    #fig, ax = plt.subplots(nrows=1, ncols=2)\n",
    "    #ax[0].imshow(wafer_map)\n",
    "    #ax[1].imshow(outermostTwoRings)\n",
    "    #plt.show()\n",
    "\n",
    "    return edge_yield_loss\n",
    "\n",
    "# TODO: This helper function returns return an numpy array highlighting the outermost two rings\n",
    "# of the wafer map with nonzero value\n",
    "def ring_label_from_outside(wafer_map: np.ndarray) -> np.ndarray:\n",
    "    # CODE HERE\n",
    "    ring_labels = erosion(wafer_map)\n",
    "    plt.imshow(ring_labels)\n",
    "    wafer_map = (wafer_map != NO_DIE)\n",
    "    \n",
    "    return ring_labels\n",
    "            \n"
   ]
  },
  {
   "cell_type": "code",
   "execution_count": 99,
   "metadata": {},
   "outputs": [
    {
     "name": "stdout",
     "output_type": "stream",
     "text": [
      "0.007019783024888321\n"
     ]
    },
    {
     "data": {
      "image/png": "[encoded data removed]",
      "text/plain": [
       "<Figure size 640x480 with 1 Axes>"
      ]
     },
     "metadata": {},
     "output_type": "display_data"
    }
   ],
   "source": [
    "# # uncomment to use test codes for feature extractor functions\n",
    "failure_type = 'Center'\n",
    "row_index = 0\n",
    "row = df_train.loc[df_train['failureType']==failure_type].iloc[row_index]\n",
    "\n",
    "\n",
    "#print(get_salient_region(row))\n",
    "#print(get_area_ratio(row))\n",
    "#print(get_max_dist_from_center(row))\n",
    "#print(get_min_dist_from_center(row))\n",
    "#print(get_perimeter_ratio(row))\n",
    "# print(get_major_axis_ratio(row))\n",
    "# print(get_minor_axis_ratio(row))\n",
    "# print(get_solidity(row))\n",
    "# print(get_eccentricity(row))\n",
    "# print(get_yield_loss(row))\n",
    "print(get_edge_yield_loss(row))"
   ]
  },
  {
   "cell_type": "code",
   "execution_count": 17,
   "metadata": {},
   "outputs": [],
   "source": [
    "# This function applies all feature extractor functions onto the \n",
    "# dataframe and save the results to new columns\n",
    "def create_feature_columns(df: pd.DataFrame) -> pd.DataFrame:\n",
    "    # format df['<new column name>'] = df.apply(<feature extractor function>, axis=1)\n",
    "    df['salientRegion'] = df.apply(get_salient_region, axis=1)\n",
    "    # TODO: fill in the rest of the feature extractor functions using same format\n",
    "    # CODE HERE\n",
    "    df['areaRatio'] = df.apply(get_area_ratio, axis=1)\n",
    "    df['maxDistFromCenter'] = df.apply(get_max_dist_from_center, axis=1)\n",
    "    df['minDistFromCenter'] = df.apply(get_min_dist_from_center, axis=1)\n",
    "    df['perimeterRatio'] = df.apply(get_perimeter_ratio, axis=1)\n",
    "    df['majorAxisRatio'] = df.apply(get_major_axis_ratio, axis=1)\n",
    "    df['minorAxisRatio'] = df.apply(get_minor_axis_ratio, axis=1)\n",
    "    df['solidity'] = df.apply(get_solidity, axis=1)\n",
    "    df['eccentricity'] = df.apply(get_eccentricity, axis=1)\n",
    "    df['yieldLoss'] = df.apply(get_yield_loss, axis=1)\n",
    "    #df['edgeYieldLoss'] = df.apply(get_edge_yield_loss, axis=1)\n",
    "\n",
    "    return df"
   ]
  },
  {
   "cell_type": "code",
   "execution_count": 87,
   "metadata": {},
   "outputs": [
    {
     "data": {
      "image/png": "[encoded data removed]",
      "text/plain": [
       "<Figure size 640x480 with 1 Axes>"
      ]
     },
     "metadata": {},
     "output_type": "display_data"
    }
   ],
   "source": [
    "# actually applying the feature extractors on the training dataframe\n",
    "df_train = create_feature_columns(df_train)"
   ]
  },
  {
   "cell_type": "markdown",
   "metadata": {},
   "source": [
    "### Data Preparation (Part 2)"
   ]
  },
  {
   "cell_type": "markdown",
   "metadata": {},
   "source": [
    "prepare the dataset for training models"
   ]
  },
  {
   "cell_type": "code",
   "execution_count": 89,
   "metadata": {},
   "outputs": [],
   "source": [
    "# TODO: From the dataframe select the features we extracted as X \n",
    "# and y is the numerical failure type labels\n",
    "# CODE HERE\n",
    "selected_features = ['salientRegion', 'areaRatio',\n",
    "                     'maxDistFromCenter', 'minDistFromCenter', 'perimeterRatio', \n",
    "                     'majorAxisRatio', 'minorAxisRatio', 'solidity', 'eccentricity', 'yieldLoss', 'edgeYieldLoss']\n",
    "x = df_train[selected_features]\n",
    "y = df_train['failureTypeInt']\n",
    "# TODO: split dataset into training and validation set\n",
    "# we will set aside some portion of the training data as validation data\n",
    "# CODE HERE\n",
    "test_ratio = 0.2\n",
    "x_train,x_valid,y_train,y_valid = train_test_split(x,y,test_size=test_ratio,random_state=RANDOM_SEED)"
   ]
  },
  {
   "cell_type": "code",
   "execution_count": 90,
   "metadata": {},
   "outputs": [
    {
     "data": {
      "image/png": "[encoded data removed]",
      "text/plain": [
       "<Figure size 1000x500 with 2 Axes>"
      ]
     },
     "metadata": {},
     "output_type": "display_data"
    }
   ],
   "source": [
    "# check train/validation distribution\n",
    "plt.figure(figsize=(10,5))\n",
    "\n",
    "plt.subplot(1,2,1)\n",
    "y_train.hist()\n",
    "plt.title('Training Label Distribution')\n",
    "\n",
    "plt.subplot(1,2,2)\n",
    "y_valid.hist()\n",
    "plt.title('Validation Label Distribution')\n",
    "\n",
    "plt.show()"
   ]
  },
  {
   "cell_type": "markdown",
   "metadata": {},
   "source": [
    "Train and Evaluate a Decision Tree Model"
   ]
  },
  {
   "cell_type": "code",
   "execution_count": null,
   "metadata": {},
   "outputs": [],
   "source": [
    "# TODO: initialize Decision Tree classifier with max tree depth of 3\n",
    "# CODE HERE\n",
    "classifier = tree.DecisionTreeClassifier(max_depth=3)\n",
    "# TODO: Train the Decision Tree classifier with the training data\n",
    "# CODE HERE\n",
    "classifier = classifier.fit(x_train, y_train)"
   ]
  },
  {
   "cell_type": "code",
   "execution_count": null,
   "metadata": {},
   "outputs": [],
   "source": [
    "# TODO: Implement a function that calculates the prediction accuracy.\n",
    "def calculate_accuracy(pred_labels: np.ndarray, true_labels: np.ndarray):\n",
    "    # CODE HERE\n",
    "    accuracy = np.sum(pred_labels == true_labels) / true_labels.__len__() * 100\n",
    "    return accuracy\n",
    "\n",
    "# TODO: Implement a function that calculates the prediction acuuracy for each failure type.\n",
    "def calculate_per_class_accuracy(pred_labels: np.ndarray, true_labels: np.ndarray):\n",
    "    # CODE HERE\n",
    "    return accuracies"
   ]
  },
  {
   "cell_type": "code",
   "execution_count": null,
   "metadata": {},
   "outputs": [],
   "source": [
    "# TODO: get the predicted labels of the training data and calculate the accuracy\n",
    "# CODE HERE\n",
    "pred_train = model.predict(x_train)\n",
    "acc_train = calculate_accuracy(pred_train, y_train)\n",
    "print(f'Model accuracy on training data set is {acc_train:.2f}%')\n",
    "\n",
    "# TODO: calculate the accuracy for each failure type\n",
    "# CODE HERE\n",
    "accuracies_train = calculate_per_class_accuracy(pred_train, y_train)\n",
    "print(f'Model accuracy on training data set for each class is {accuracies_train}%')\n",
    "\n",
    "# TODO: get failure types string sorted by their numerical value\n",
    "tick_labels = [\"Center\", \"Edge-Loc\", \"Scratch\", \"Donut\", \"Near-full\"]\n",
    "\n",
    "# TODO: compute confusion matrix and assign labels parameter\n",
    "cm = confustion_matrix(y_train, pred_train, labels=tick_labels)\n",
    "\n",
    "# plot confusion matrix using heatmap\n",
    "sns.heatmap(cm, annot=True, fmt='d', \n",
    "            xticklabels=tick_labels , \n",
    "            yticklabels=tick_labels,\n",
    "            cmap='Blues')\n",
    "\n",
    "# TODO: provide x-axis label and y-axis label\n",
    "plt.xlabel(# CODE HERE)\n",
    "plt.ylabel(# CODE HERE)\n",
    "\n",
    "# show plot\n",
    "plt.show()"
   ]
  },
  {
   "cell_type": "code",
   "execution_count": null,
   "metadata": {},
   "outputs": [],
   "source": [
    "# TODO: get the predicted labels of the validation data and calculate the accuracy\n",
    "# CODE HERE\n",
    "pred_valid = model.predict(x_valid)\n",
    "acc_valid = calculate_accuracy(pred_valid, y_valid)\n",
    "print(f'Model accuracy on validation data set is {acc_valid:.2f}%')\n",
    "\n",
    "# TODO: calculate the accuracy for each failure type\n",
    "# CODE HERE\n",
    "print(f'Model accuracy on validation data set for each class is {accuracies_valid}%')\n",
    "\n",
    "# TODO: get failure types string sorted by their numerical value\n",
    "tick_labels = [\"Center\", \"Edge-Loc\", \"Scratch\", \"Donut\", \"Near-full\"]\n",
    "\n",
    "# TODO: compute confusion matrix and assign labels parameter\n",
    "cm = confustion_matrix(y_valid, pred_valid, labels=tick_labels)\n",
    "\n",
    "# plot confusion matrix using heatmap\n",
    "sns.heatmap(cm, annot=True, fmt='d', \n",
    "            xticklabels=tick_labels, \n",
    "            yticklabels=tick_labels,\n",
    "            cmap='Blues')\n",
    "\n",
    "# TODO: provide x-axis label and y-axis label\n",
    "plt.xlabel(# CODE HERE)\n",
    "plt.ylabel(# CODE HERE)\n",
    "\n",
    "# show plot\n",
    "plt.show()"
   ]
  },
  {
   "cell_type": "code",
   "execution_count": null,
   "metadata": {},
   "outputs": [],
   "source": [
    "# TODO: get failure types string sorted by their numerical value\n",
    "class_names = # CODE HERE\n",
    "\n",
    "# plot decision tree\n",
    "plt.figure(figsize=(18,12))\n",
    "tree.plot_tree(classifier,                              # classifier to extract the rules from\n",
    "                feature_names=selected_features,        # the feature names that were used\n",
    "                class_names=class_names,                # the class labels, converted to string\n",
    "                filled=True, fontsize=6)\n",
    "plt.show()"
   ]
  },
  {
   "cell_type": "markdown",
   "metadata": {},
   "source": [
    "### Testing Set"
   ]
  },
  {
   "cell_type": "markdown",
   "metadata": {},
   "source": [
    "Data Loading, Preprocess, and Feature Extraction"
   ]
  },
  {
   "cell_type": "code",
   "execution_count": null,
   "metadata": {},
   "outputs": [],
   "source": [
    "# TODO: load test dataset with pandas from wafermap_test.npy\n",
    "# CODE HERE\n",
    "df_test = pd.read_csv(\"wafermap_test.npy\")\n",
    "\n",
    "# TODO: apply data preparation function\n",
    "# note: test data does not have failureType column\n",
    "# CODE HERE\n",
    "df_test = prepare_data(df_test)\n",
    "\n",
    "# TODO: apply feature exatractors to extract features\n",
    "# CODE HERE\n",
    "df_test = create_feature_columns(df_test)"
   ]
  },
  {
   "cell_type": "markdown",
   "metadata": {},
   "source": [
    "Generate Predictions for the Test Set"
   ]
  },
  {
   "cell_type": "code",
   "execution_count": null,
   "metadata": {},
   "outputs": [],
   "source": [
    "# TODO: From the dataframe select the features we extracted as X \n",
    "# and y is the numerical failure type labels\n",
    "# CODE HERE\n",
    "\n",
    "# TODO: get the predicted labels of the test data and convert them back to string\n",
    "# and output as scores.csv\n",
    "# CODE HERE"
   ]
  }
 ],
 "metadata": {
  "kernelspec": {
   "display_name": "Python 3.9.13 64-bit (microsoft store)",
   "language": "python",
   "name": "python3"
  },
  "language_info": {
   "codemirror_mode": {
    "name": "ipython",
    "version": 3
   },
   "file_extension": ".py",
   "mimetype": "text/x-python",
   "name": "python",
   "nbconvert_exporter": "python",
   "pygments_lexer": "ipython3",
   "version": "3.9.13"
  },
  "orig_nbformat": 4,
  "vscode": {
   "interpreter": {
    "hash": "8e284ee3255a07ad8bf76694974743c4c81cb57e7c969474d752d949b11d721e"
   }
  }
 },
 "nbformat": 4,
 "nbformat_minor": 2
}
